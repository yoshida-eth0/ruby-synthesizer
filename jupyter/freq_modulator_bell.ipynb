{
 "cells": [
  {
   "cell_type": "code",
   "execution_count": 1,
   "id": "1a8e48a5",
   "metadata": {},
   "outputs": [
    {
     "data": {
      "text/html": [
       "<audio controls src='output_tmp_1641192830_265592.wav'></audio>"
      ],
      "text/plain": [
       "\"<audio controls src='output_tmp_1641192830_265592.wav'></audio>\""
      ]
     },
     "metadata": {},
     "output_type": "display_data"
    }
   ],
   "source": [
    "$LOAD_PATH << File.dirname(__FILE__) + \"/../lib\"\n",
    "$LOAD_PATH << File.dirname(__FILE__) + \"/../../ruby-audio_stream/lib\"\n",
    "\n",
    "require 'synthesizer'\n",
    "require 'audio_stream'\n",
    "require_relative 'buffer_player'\n",
    "\n",
    "include AudioStream\n",
    "include Synthesizer\n",
    "\n",
    "soundinfo = SoundInfo.new(\n",
    "  channels: 2,\n",
    "  samplerate: 44100,\n",
    "  window_size: 1024,\n",
    "  format: RubyAudio::FORMAT_WAV|RubyAudio::FORMAT_PCM_16\n",
    ")\n",
    "\n",
    "synth = PolySynth.new(\n",
    "  oscillators: [\n",
    "    Oscillator.new(\n",
    "      source: OscillatorSource::Sine.instance,\n",
    "      freq_modulators: [\n",
    "        PolySynth.new(\n",
    "          oscillators: [\n",
    "            Oscillator.new(\n",
    "              source: OscillatorSource::Sine.instance,\n",
    "              ratio_freq: 8,\n",
    "            ),\n",
    "          ],\n",
    "          amplifier: Amplifier.new(\n",
    "            volume: ModulationValue.new(0.0)\n",
    "              .add(Modulation::Adsr.new(\n",
    "                attack: 0.0,\n",
    "                hold: 0.0,\n",
    "                decay: 0.0,\n",
    "                sustain: 1.0,\n",
    "                release: 0.0\n",
    "              ), depth: 1.0),\n",
    "            ),\n",
    "          soundinfo: soundinfo,\n",
    "        ),\n",
    "      ],\n",
    "    ),\n",
    "  ],\n",
    "  amplifier: Amplifier.new(\n",
    "    volume: ModulationValue.new(0.0)\n",
    "      .add(Modulation::Adsr.new(\n",
    "        attack: 0.0,\n",
    "        hold: 0.0,\n",
    "        decay: 2.0,\n",
    "        sustain: 0.0,\n",
    "        release: 0.0\n",
    "      ), depth: 1.0)\n",
    "      .add(Modulation::Lfo.new(\n",
    "        rate: 0.2\n",
    "      ), depth: 0.2),\n",
    "    ),\n",
    "  soundinfo: soundinfo,\n",
    ")\n",
    "\n",
    "BufferPlayer.play(soundinfo) {|player|\n",
    "  synth.note_on(Note.new(72))\n",
    "  Rate.sec(2).frame(soundinfo).ceil.times {\n",
    "    player.write(synth.next)\n",
    "  }\n",
    "  synth.note_off(Note.new(72))\n",
    "}\n",
    "nil"
   ]
  },
  {
   "cell_type": "code",
   "execution_count": null,
   "id": "658dfd24",
   "metadata": {},
   "outputs": [],
   "source": []
  }
 ],
 "metadata": {
  "kernelspec": {
   "display_name": "Ruby 2.7.1",
   "language": "ruby",
   "name": "ruby"
  },
  "language_info": {
   "file_extension": ".rb",
   "mimetype": "application/x-ruby",
   "name": "ruby",
   "version": "2.7.2"
  }
 },
 "nbformat": 4,
 "nbformat_minor": 5
}
